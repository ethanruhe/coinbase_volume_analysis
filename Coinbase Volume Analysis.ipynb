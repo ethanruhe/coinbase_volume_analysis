{
 "cells": [
  {
   "cell_type": "markdown",
   "metadata": {},
   "source": [
    "This notebook:\n",
    "- pulls Coinbase exchange data from 2015 - Q2 2018. \n",
    "- aggregates trading volume to USD \n",
    "- calculates summary statistics of aggregated trade volume\n",
    "\n",
    "Assumptions used in analysis:\n",
    "- data collected by hour; mid-point of hour, ((open + close) / 2), used as price for period\n",
    "- USD volume of period = price as noted above * total coin volume for time period\n",
    "- Assume one price/no arbitrage; i.e., assume BTC-EUR and BTC-USD trade at the same effective price for the same time period\n",
    "\n",
    "See [Coinbase's documentation](https://developers.coinbase.com/api/v2) for more details."
   ]
  },
  {
   "cell_type": "code",
   "execution_count": 1,
   "metadata": {},
   "outputs": [],
   "source": [
    "# Import necessary packages\n",
    "import os\n",
    "import numpy as np\n",
    "import pandas as pd\n",
    "import matplotlib.pyplot as plt\n",
    "import datetime\n",
    "import time\n",
    "from operator import itemgetter\n",
    "import requests\n",
    "import csv\n",
    "\n",
    "# Viewing options\n",
    "%matplotlib inline\n",
    "plt.rcParams[\"figure.figsize\"] = (16,10)  # default plot size\n",
    "pd.options.display.max_columns = 500\n",
    "pd.options.display.max_rows = 2000\n",
    "pd.options.display.float_format = '{:,.3f}'.format # 2 decimals"
   ]
  },
  {
   "cell_type": "code",
   "execution_count": 2,
   "metadata": {},
   "outputs": [],
   "source": [
    "# Set globals\n",
    "PATH = os.getcwd()\n",
    "api_url = 'https://api.pro.coinbase.com'\n",
    "START = '2015-01-01 00:00:00'\n",
    "END   = '2018-06-30 23:59:59'\n",
    "STARTTIME = datetime.datetime.strptime(START, '%Y-%m-%d %H:%M:%S')\n",
    "ENDTIME   = datetime.datetime.strptime(END, '%Y-%m-%d %H:%M:%S')"
   ]
  },
  {
   "cell_type": "code",
   "execution_count": 3,
   "metadata": {},
   "outputs": [],
   "source": [
    "# Define Coinbase products\n",
    "api_products = requests.get(api_url + '/products/', timeout=10)"
   ]
  },
  {
   "cell_type": "code",
   "execution_count": 4,
   "metadata": {},
   "outputs": [
    {
     "data": {
      "text/plain": [
       "['BTC-USD',\n",
       " 'BCH-BTC',\n",
       " 'BCH-USD',\n",
       " 'BTC-EUR',\n",
       " 'BTC-GBP',\n",
       " 'ETH-BTC',\n",
       " 'ETH-EUR',\n",
       " 'ETH-USD',\n",
       " 'LTC-BTC',\n",
       " 'LTC-EUR',\n",
       " 'LTC-USD',\n",
       " 'BCH-EUR']"
      ]
     },
     "execution_count": 4,
     "metadata": {},
     "output_type": "execute_result"
    }
   ],
   "source": [
    "# List Coinbase products, except ETC, which started trading in 08-2018\n",
    "products = []\n",
    "for item in api_products.json():\n",
    "    if item['id'] not in ['ETC-EUR', 'ETC-USD', 'ETC-BTC']:\n",
    "        products.append(item['id'])\n",
    "products"
   ]
  },
  {
   "cell_type": "code",
   "execution_count": 5,
   "metadata": {},
   "outputs": [],
   "source": [
    "\"\"\"\n",
    "Pull Coinbase data. \n",
    "Note: logging code left in even though it's not returned.\n",
    "\n",
    "Args:\n",
    "    starttime: begining of data series (first available data may start later)\n",
    "    endtime: end of data series\n",
    "    granularity: resolution of data in seconds; 3600 is 1 hour\n",
    "    interval_seconds: size of range per API call; must be < (300 * granularity)\n",
    "    product: exchange pair of data to pull\n",
    "\"\"\"\n",
    "def pull_coinbase_data(starttime, endtime, granularity, interval_seconds, product):\n",
    "    interval_start = starttime\n",
    "    interval_end   = starttime + datetime.timedelta(seconds=interval_seconds)\n",
    "\n",
    "    data_bucket = []\n",
    "    errors = 0\n",
    "    errors_codes = []\n",
    "    errors_json = []\n",
    "    errors_intervals = []\n",
    "    consecutive_errors = 0\n",
    "    consecutive_errors_log = []\n",
    "\n",
    "    while interval_start <= endtime:\n",
    "        # uncomment below to print interval\n",
    "        # print(\"[{}, {}]\".format(interval_start.isoformat(), interval_end.isoformat()))\n",
    "\n",
    "        params = {}\n",
    "        params['start'] = interval_start\n",
    "        params['end'] = interval_end\n",
    "        params['granularity'] = granularity\n",
    "\n",
    "        r = requests.get(api_url + '/products/{}/candles'.format(product), params=params, timeout=60)\n",
    "\n",
    "        # If request results in error code, log error\n",
    "        if r.status_code != 200:\n",
    "            errors += 1\n",
    "            errors_codes.append([r.status_code])\n",
    "            errors_intervals.append([interval_start, interval_end])\n",
    "            print('Error: {}'.format(r.status_code))\n",
    "            consecutive_errors += 1\n",
    "\n",
    "            # Sleep for 0.5 second to avoid hitting API rate limit\n",
    "            time.sleep(0.5)\n",
    "\n",
    "        # Otherwise append data to output and iterate interval window\n",
    "        else:\n",
    "            if consecutive_errors > 0:\n",
    "                consecutive_errors_log.append(consecutive_errors)\n",
    "                consecutive_errors = 0\n",
    "\n",
    "            for i in sorted(r.json(), key=itemgetter(0)):\n",
    "                data_bucket.append(i)\n",
    "\n",
    "            # Set interval_start to 1 second past old interval_end\n",
    "            interval_start = interval_end + datetime.timedelta(seconds=granularity)\n",
    "\n",
    "            # Set interval_end to interval_start + INTERVAL_SECONDS or end_datetime\n",
    "            interval_end = interval_start + datetime.timedelta(seconds=interval_seconds)\n",
    "            if interval_end > endtime:\n",
    "                  interval_end = endtime\n",
    "\n",
    "            # Sleep for 0.5 seconds to avoid hitting API rate limit\n",
    "            time.sleep(0.5)\n",
    "    \n",
    "    column_names = ['dt', 'low', 'high', 'open', 'close', 'vol']\n",
    "    df_output = pd.DataFrame(data_bucket, columns=column_names)\n",
    "    df_output['dt'] = pd.to_datetime(df_output['dt'], unit='s')\n",
    "    df_output.set_index('dt', inplace=True)\n",
    "    \n",
    "    return df_output\n"
   ]
  },
  {
   "cell_type": "code",
   "execution_count": 6,
   "metadata": {},
   "outputs": [
    {
     "name": "stdout",
     "output_type": "stream",
     "text": [
      "----------------------------------------\n",
      "Product: BTC-USD\n",
      "BTC-USD Complete\n",
      "----------------------------------------\n",
      "Product: BCH-BTC\n",
      "BCH-BTC Complete\n",
      "----------------------------------------\n",
      "Product: BCH-USD\n",
      "BCH-USD Complete\n",
      "----------------------------------------\n",
      "Product: BTC-EUR\n",
      "BTC-EUR Complete\n",
      "----------------------------------------\n",
      "Product: BTC-GBP\n",
      "BTC-GBP Complete\n",
      "----------------------------------------\n",
      "Product: ETH-BTC\n",
      "ETH-BTC Complete\n",
      "----------------------------------------\n",
      "Product: ETH-EUR\n",
      "ETH-EUR Complete\n",
      "----------------------------------------\n",
      "Product: ETH-USD\n",
      "ETH-USD Complete\n",
      "----------------------------------------\n",
      "Product: LTC-BTC\n",
      "LTC-BTC Complete\n",
      "----------------------------------------\n",
      "Product: LTC-EUR\n",
      "LTC-EUR Complete\n",
      "----------------------------------------\n",
      "Product: LTC-USD\n",
      "LTC-USD Complete\n",
      "----------------------------------------\n",
      "Product: BCH-EUR\n",
      "BCH-EUR Complete\n"
     ]
    }
   ],
   "source": [
    "# Takes a while to import all products' data, so save locally once done\n",
    "starttime = STARTTIME\n",
    "endtime = ENDTIME\n",
    "granularity = 3600\n",
    "interval_seconds = 900000\n",
    "\n",
    "product_dfs = {}\n",
    "for product in products:\n",
    "    print('----------------------------------------')\n",
    "    print('Product: {}'.format(product))\n",
    "    df_import = pull_coinbase_data(starttime = starttime\n",
    "        , endtime = endtime\n",
    "        , granularity = granularity  # second duration of candlestick data\n",
    "        , product = product\n",
    "        , interval_seconds = interval_seconds)\n",
    "    \n",
    "    # Save\n",
    "    df_import.to_csv(PATH+'/coinbase_data/'+product+'.csv')\n",
    "    \n",
    "    # Put in product_dfs\n",
    "    product_dfs[product] = df_import\n",
    "    \n",
    "    del df_import\n",
    "    print('{} Complete'.format(product))"
   ]
  },
  {
   "cell_type": "code",
   "execution_count": 7,
   "metadata": {},
   "outputs": [],
   "source": [
    "# Aggregate by-hour trading value of coins\n",
    "# Note: requires one price assumption (e.g., no arbitrage)\n",
    "\n",
    "# Aggregate BTC trading volume\n",
    "agg_btc = product_dfs['BTC-USD']['vol'].add(\n",
    "    product_dfs['BTC-GBP']['vol'], fill_value=0).add(\n",
    "    product_dfs['BTC-EUR']['vol'], fill_value=0)\n",
    "\n",
    "# Aggregate ETH trading volume\n",
    "agg_eth = product_dfs['ETH-USD']['vol'].add(\n",
    "    product_dfs['ETH-EUR']['vol'], fill_value=0).add(\n",
    "    product_dfs['ETH-BTC']['vol'], fill_value=0)\n",
    "\n",
    "# Aggregate LTC trading volume\n",
    "agg_ltc = product_dfs['LTC-USD']['vol'].add(\n",
    "    product_dfs['LTC-EUR']['vol'], fill_value=0).add(\n",
    "    product_dfs['LTC-BTC']['vol'], fill_value=0)\n",
    "\n",
    "# Aggregate BCH trading volume\n",
    "agg_bch = product_dfs['BCH-USD']['vol'].add(\n",
    "    product_dfs['BCH-EUR']['vol'], fill_value=0).add(\n",
    "    product_dfs['BCH-BTC']['vol'], fill_value=0)"
   ]
  },
  {
   "cell_type": "code",
   "execution_count": 8,
   "metadata": {},
   "outputs": [],
   "source": [
    "# Calculate by-hour mid-price\n",
    "# Note: Leads to one price assumption (e.g., no arbitrage)\n",
    "usd_btc_price = (product_dfs['BTC-USD']['open'] + product_dfs['BTC-USD']['close']) / 2\n",
    "usd_eth_price = (product_dfs['ETH-USD']['open'] + product_dfs['ETH-USD']['close']) / 2\n",
    "usd_ltc_price = (product_dfs['LTC-USD']['open'] + product_dfs['LTC-USD']['close']) / 2\n",
    "usd_bch_price = (product_dfs['BCH-USD']['open'] + product_dfs['BCH-USD']['close']) / 2"
   ]
  },
  {
   "cell_type": "code",
   "execution_count": 9,
   "metadata": {},
   "outputs": [],
   "source": [
    "# Calculate USD value of coin's by-hour volme\n",
    "usd_btc_vol = agg_btc * usd_btc_price\n",
    "usd_eth_vol = agg_eth * usd_eth_price\n",
    "usd_ltc_vol = agg_ltc * usd_ltc_price\n",
    "usd_bch_vol = agg_bch * usd_bch_price"
   ]
  },
  {
   "cell_type": "code",
   "execution_count": 10,
   "metadata": {},
   "outputs": [],
   "source": [
    "# Calculate total USD value of Coinbase volume\n",
    "tot_usd_vol = usd_btc_vol.add(\n",
    "                usd_eth_vol, fill_value=0).add(\n",
    "                usd_ltc_vol, fill_value=0).add(\n",
    "                usd_bch_vol, fill_value=0)"
   ]
  },
  {
   "cell_type": "code",
   "execution_count": 11,
   "metadata": {},
   "outputs": [
    {
     "data": {
      "text/plain": [
       "dt\n",
       "2015-01-08 01:00:00   254.084\n",
       "2015-01-08 02:00:00   442.460\n",
       "2015-01-08 03:00:00   416.093\n",
       "2015-01-08 04:00:00   378.225\n",
       "2015-01-08 05:00:00   425.088\n",
       "dtype: float64"
      ]
     },
     "execution_count": 11,
     "metadata": {},
     "output_type": "execute_result"
    }
   ],
   "source": [
    "tot_usd_vol.head()"
   ]
  },
  {
   "cell_type": "code",
   "execution_count": 12,
   "metadata": {},
   "outputs": [
    {
     "data": {
      "text/plain": [
       "<matplotlib.axes._subplots.AxesSubplot at 0x1065e0d30>"
      ]
     },
     "execution_count": 12,
     "metadata": {},
     "output_type": "execute_result"
    },
    {
     "data": {
      "image/png": "[encoded data removed]",
      "text/plain": [
       "<matplotlib.figure.Figure at 0x101e67940>"
      ]
     },
     "metadata": {},
     "output_type": "display_data"
    }
   ],
   "source": [
    "tot_usd_vol.plot()"
   ]
  },
  {
   "cell_type": "code",
   "execution_count": 13,
   "metadata": {},
   "outputs": [
    {
     "data": {
      "image/png": "[encoded data removed]",
      "text/plain": [
       "<matplotlib.figure.Figure at 0x1016da630>"
      ]
     },
     "metadata": {},
     "output_type": "display_data"
    }
   ],
   "source": [
    "tot_usd_vol_d_cumsum = tot_usd_vol.resample('D').sum().cumsum()\n",
    "\n",
    "ax = tot_usd_vol_d_cumsum.plot(title = \"Coinbase: Cumulative Trading Volume\" \\\n",
    "        , color='b')\n",
    "ax.fill_between(tot_usd_vol_d_cumsum.index, tot_usd_vol_d_cumsum, where=tot_usd_vol_d_cumsum>=0, color='blue')\n",
    "\n",
    "ax.get_yaxis().set_major_formatter(\n",
    "    plt.matplotlib.ticker.FuncFormatter(lambda x, p: format(int(x), ',')))\n",
    "\n",
    "plt.savefig('coinbase_cumulative_volume.png')\n",
    "plt.show()"
   ]
  },
  {
   "cell_type": "code",
   "execution_count": 14,
   "metadata": {},
   "outputs": [
    {
     "data": {
      "text/plain": [
       "dt\n",
       "2015-01-31        7,513,570.291\n",
       "2015-02-28       63,590,843.409\n",
       "2015-03-31       90,420,205.733\n",
       "2015-04-30       54,794,567.834\n",
       "2015-05-31       50,728,068.721\n",
       "2015-06-30       47,705,558.227\n",
       "2015-07-31       64,660,340.592\n",
       "2015-08-31       58,645,539.895\n",
       "2015-09-30       50,658,064.749\n",
       "2015-10-31       74,375,522.881\n",
       "2015-11-30      140,651,789.795\n",
       "2015-12-31      203,656,891.336\n",
       "2016-01-31      111,366,401.140\n",
       "2016-02-29       89,392,200.606\n",
       "2016-03-31       97,869,371.947\n",
       "2016-04-30       84,028,061.571\n",
       "2016-05-31      100,707,732.360\n",
       "2016-06-30      242,585,794.074\n",
       "2016-07-31      161,927,555.153\n",
       "2016-08-31      127,955,208.736\n",
       "2016-09-30       98,432,685.182\n",
       "2016-10-31      109,698,458.917\n",
       "2016-11-30      124,198,474.996\n",
       "2016-12-31      180,614,673.030\n",
       "2017-01-31      266,934,710.273\n",
       "2017-02-28      246,632,817.854\n",
       "2017-03-31      809,679,761.957\n",
       "2017-04-30      677,611,393.141\n",
       "2017-05-31    2,859,191,322.953\n",
       "2017-06-30    4,659,551,602.643\n",
       "2017-07-31    3,678,561,586.956\n",
       "2017-08-31    4,099,044,963.956\n",
       "2017-09-30    5,091,266,099.487\n",
       "2017-10-31    4,013,730,866.315\n",
       "2017-11-30   11,601,748,395.582\n",
       "2017-12-31   40,659,364,587.453\n",
       "2018-01-31   25,262,547,705.379\n",
       "2018-02-28   19,186,206,491.633\n",
       "2018-03-31   11,301,181,296.598\n",
       "2018-04-30    8,454,588,964.344\n",
       "2018-05-31    8,025,608,944.484\n",
       "2018-06-30    4,694,057,227.914\n",
       "Freq: M, dtype: float64"
      ]
     },
     "execution_count": 14,
     "metadata": {},
     "output_type": "execute_result"
    }
   ],
   "source": [
    "# Monthly totals\n",
    "tot_usd_vol.resample('M').sum()"
   ]
  },
  {
   "cell_type": "code",
   "execution_count": 15,
   "metadata": {},
   "outputs": [
    {
     "data": {
      "text/plain": [
       "dt\n",
       "2015-12-31      907,400,963.462\n",
       "2016-12-31    1,528,776,617.712\n",
       "2017-12-31   78,663,318,108.571\n",
       "2018-12-31   76,924,190,630.353\n",
       "Freq: A-DEC, dtype: float64"
      ]
     },
     "execution_count": 15,
     "metadata": {},
     "output_type": "execute_result"
    }
   ],
   "source": [
    "# Annual totals; note 2018 is only H1\n",
    "tot_usd_vol.resample('Y').sum()"
   ]
  }
 ],
 "metadata": {
  "kernelspec": {
   "display_name": "Python 3",
   "language": "python",
   "name": "python3"
  },
  "language_info": {
   "codemirror_mode": {
    "name": "ipython",
    "version": 3
   },
   "file_extension": ".py",
   "mimetype": "text/x-python",
   "name": "python",
   "nbconvert_exporter": "python",
   "pygments_lexer": "ipython3",
   "version": "3.6.3"
  }
 },
 "nbformat": 4,
 "nbformat_minor": 2
}
